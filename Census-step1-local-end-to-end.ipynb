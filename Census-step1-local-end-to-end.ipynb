{
 "cells": [
  {
   "cell_type": "code",
   "execution_count": 2,
   "metadata": {
    "collapsed": false,
    "deletable": true,
    "editable": true
   },
   "outputs": [
    {
     "name": "stderr",
     "output_type": "stream",
     "text": [
      "/usr/local/envs/py2env/lib/python2.7/site-packages/h5py/__init__.py:36: FutureWarning: Conversion of the second argument of issubdtype from `float` to `np.floating` is deprecated. In future, it will be treated as `np.float64 == np.dtype(float).type`.\n",
      "  from ._conv import register_converters as _register_converters\n"
     ]
    }
   ],
   "source": [
    "import google.datalab.ml as ml\n",
    "import json\n",
    "import math\n",
    "import matplotlib.pyplot as plot\n",
    "import mltoolbox.regression.dnn as regression\n",
    "import numpy as np\n",
    "import pandas as pd\n",
    "import os\n",
    "import seaborn as sns\n",
    "import sklearn.metrics as metrics"
   ]
  },
  {
   "cell_type": "code",
   "execution_count": 3,
   "metadata": {
    "collapsed": true,
    "deletable": true,
    "editable": true
   },
   "outputs": [],
   "source": [
    "#string to hold the path\n",
    "workspace_path = '/content/datalab/workspace/census'"
   ]
  },
  {
   "cell_type": "markdown",
   "metadata": {
    "deletable": true,
    "editable": true
   },
   "source": [
    "make a directory with name created above:"
   ]
  },
  {
   "cell_type": "code",
   "execution_count": 4,
   "metadata": {
    "collapsed": true,
    "deletable": true,
    "editable": true
   },
   "outputs": [],
   "source": [
    "!mkdir -p {workspace_path}"
   ]
  },
  {
   "cell_type": "code",
   "execution_count": 5,
   "metadata": {
    "collapsed": false,
    "deletable": true,
    "editable": true
   },
   "outputs": [],
   "source": [
    "#!gsutil -q cp gs://cloud-datalab-samples/census/ss14psd.csv {workspace_path}/data/census.csv\n",
    "!gsutil -q cp gs://cloud-datalab-samples/census/ss14psd.csv {workspace_path}/data/census.csv"
   ]
  },
  {
   "cell_type": "code",
   "execution_count": 6,
   "metadata": {
    "collapsed": false,
    "deletable": true,
    "editable": true
   },
   "outputs": [
    {
     "name": "stdout",
     "output_type": "stream",
     "text": [
      "total 8204\r\n",
      "-rw-r--r-- 1 root root 8189323 Jul  1 11:53 census.csv\r\n",
      "-rw-r--r-- 1 root root   39989 Jun 30 12:10 eval.csv\r\n",
      "-rw-r--r-- 1 root root     998 Jun 30 12:10 schema.json\r\n",
      "-rw-r--r-- 1 root root  163566 Jun 30 12:10 train.csv\r\n"
     ]
    }
   ],
   "source": [
    "!ls -l {workspace_path}/data   #check the contents of folder"
   ]
  },
  {
   "cell_type": "code",
   "execution_count": 7,
   "metadata": {
    "collapsed": true,
    "deletable": true,
    "editable": true
   },
   "outputs": [],
   "source": [
    "df_data = pd.read_csv(os.path.join(workspace_path, 'data/census.csv'), dtype=str)"
   ]
  },
  {
   "cell_type": "code",
   "execution_count": 8,
   "metadata": {
    "collapsed": false,
    "deletable": true,
    "editable": true
   },
   "outputs": [
    {
     "name": "stdout",
     "output_type": "stream",
     "text": [
      "8626 rows\n",
      "  RT SERIALNO SPORDER   PUMA  ST   ADJINC  PWGTP AGEP CIT CITWP   ...    \\\n",
      "0  P       25      01  00400  46  1008425  00038   85   1         ...     \n",
      "1  P      467      01  00600  46  1008425  00120   62   1         ...     \n",
      "2  P      490      01  00500  46  1008425  00172   64   1         ...     \n",
      "3  P      490      02  00500  46  1008425  00113   67   1         ...     \n",
      "4  P      676      01  00300  46  1008425  00023   89   1         ...     \n",
      "\n",
      "  pwgtp71 pwgtp72 pwgtp73 pwgtp74 pwgtp75 pwgtp76 pwgtp77 pwgtp78 pwgtp79  \\\n",
      "0   00011   00010   00008   00032   00040   00038   00033   00040   00068   \n",
      "1   00119   00039   00034   00119   00125   00104   00119   00102   00184   \n",
      "2   00049   00045   00148   00163   00313   00174   00153   00165   00158   \n",
      "3   00037   00032   00107   00125   00249   00107   00105   00094   00091   \n",
      "4   00022   00006   00035   00030   00028   00027   00020   00042   00019   \n",
      "\n",
      "  pwgtp80  \n",
      "0   00090  \n",
      "1   00038  \n",
      "2   00126  \n",
      "3   00079  \n",
      "4   00011  \n",
      "\n",
      "[5 rows x 284 columns]\n"
     ]
    }
   ],
   "source": [
    "print '%d rows' % len(df_data)\n",
    "print df_data.head()"
   ]
  },
  {
   "cell_type": "markdown",
   "metadata": {
    "deletable": true,
    "editable": true
   },
   "source": [
    "function to make data usable (and re-usable). Strip out columns that we don't need and keep the ones we do."
   ]
  },
  {
   "cell_type": "code",
   "execution_count": 9,
   "metadata": {
    "collapsed": true,
    "deletable": true,
    "editable": true
   },
   "outputs": [],
   "source": [
    "def transform_data(df):\n",
    "  interesting_columns = ['WAGP','SERIALNO','AGEP','COW','ESP','ESR','FOD1P','HINS4','INDP',\n",
    "                         'JWMNP', 'JWTR', 'MAR', 'POWPUMA', 'PUMA', 'RAC1P', 'SCHL',\n",
    "                         'SCIENGRLP', 'SEX', 'WKW']\n",
    "  df = df[interesting_columns]\n",
    " \n",
    "  #replace whitespace with NaN, and NaN with empty string\n",
    "  df = df.replace('\\s+', np.nan, regex=True).fillna('')\n",
    "\n",
    "  #drop wages column that are empty\n",
    "  df = df[df.WAGP != '']\n",
    "  #divide wages by 1000 to make #s smaller for easier calculation\n",
    "  df['WAGP'] = df.WAGP.astype(np.int64) / 1000.0\n",
    "  \n",
    "  #take out outliers / extreme wages on either end of scale - wages >= $10k and < $150k\n",
    "  df = df[(df.WAGP >= 10.0) & (df.WAGP < 150.0)]\n",
    "  \n",
    "  #return the function value - the dataframe, now cleaned and made usable\n",
    "  return df"
   ]
  },
  {
   "cell_type": "code",
   "execution_count": 10,
   "metadata": {
    "collapsed": false,
    "deletable": true,
    "editable": true
   },
   "outputs": [
    {
     "name": "stdout",
     "output_type": "stream",
     "text": [
      "3390 rows\n"
     ]
    },
    {
     "data": {
      "text/html": [
       "<div>\n",
       "<style scoped>\n",
       "    .dataframe tbody tr th:only-of-type {\n",
       "        vertical-align: middle;\n",
       "    }\n",
       "\n",
       "    .dataframe tbody tr th {\n",
       "        vertical-align: top;\n",
       "    }\n",
       "\n",
       "    .dataframe thead th {\n",
       "        text-align: right;\n",
       "    }\n",
       "</style>\n",
       "<table border=\"1\" class=\"dataframe\">\n",
       "  <thead>\n",
       "    <tr style=\"text-align: right;\">\n",
       "      <th></th>\n",
       "      <th>WAGP</th>\n",
       "      <th>SERIALNO</th>\n",
       "      <th>AGEP</th>\n",
       "      <th>COW</th>\n",
       "      <th>ESP</th>\n",
       "      <th>ESR</th>\n",
       "      <th>FOD1P</th>\n",
       "      <th>HINS4</th>\n",
       "      <th>INDP</th>\n",
       "      <th>JWMNP</th>\n",
       "      <th>JWTR</th>\n",
       "      <th>MAR</th>\n",
       "      <th>POWPUMA</th>\n",
       "      <th>PUMA</th>\n",
       "      <th>RAC1P</th>\n",
       "      <th>SCHL</th>\n",
       "      <th>SCIENGRLP</th>\n",
       "      <th>SEX</th>\n",
       "      <th>WKW</th>\n",
       "    </tr>\n",
       "  </thead>\n",
       "  <tbody>\n",
       "    <tr>\n",
       "      <th>1</th>\n",
       "      <td>70.0</td>\n",
       "      <td>467</td>\n",
       "      <td>62</td>\n",
       "      <td>1</td>\n",
       "      <td></td>\n",
       "      <td>1</td>\n",
       "      <td>2102</td>\n",
       "      <td>2</td>\n",
       "      <td>6990</td>\n",
       "      <td>015</td>\n",
       "      <td>01</td>\n",
       "      <td>3</td>\n",
       "      <td>00590</td>\n",
       "      <td>00600</td>\n",
       "      <td>1</td>\n",
       "      <td>21</td>\n",
       "      <td>2</td>\n",
       "      <td>1</td>\n",
       "      <td>1</td>\n",
       "    </tr>\n",
       "    <tr>\n",
       "      <th>2</th>\n",
       "      <td>19.0</td>\n",
       "      <td>490</td>\n",
       "      <td>64</td>\n",
       "      <td>2</td>\n",
       "      <td></td>\n",
       "      <td>1</td>\n",
       "      <td></td>\n",
       "      <td>2</td>\n",
       "      <td>8090</td>\n",
       "      <td>015</td>\n",
       "      <td>01</td>\n",
       "      <td>1</td>\n",
       "      <td>00590</td>\n",
       "      <td>00500</td>\n",
       "      <td>1</td>\n",
       "      <td>18</td>\n",
       "      <td></td>\n",
       "      <td>2</td>\n",
       "      <td>1</td>\n",
       "    </tr>\n",
       "    <tr>\n",
       "      <th>6</th>\n",
       "      <td>70.0</td>\n",
       "      <td>1225</td>\n",
       "      <td>32</td>\n",
       "      <td>5</td>\n",
       "      <td></td>\n",
       "      <td>4</td>\n",
       "      <td>5301</td>\n",
       "      <td>2</td>\n",
       "      <td>9680</td>\n",
       "      <td>015</td>\n",
       "      <td>01</td>\n",
       "      <td>1</td>\n",
       "      <td>00100</td>\n",
       "      <td>00100</td>\n",
       "      <td>1</td>\n",
       "      <td>21</td>\n",
       "      <td>2</td>\n",
       "      <td>1</td>\n",
       "      <td>1</td>\n",
       "    </tr>\n",
       "    <tr>\n",
       "      <th>7</th>\n",
       "      <td>18.0</td>\n",
       "      <td>1225</td>\n",
       "      <td>30</td>\n",
       "      <td>1</td>\n",
       "      <td></td>\n",
       "      <td>1</td>\n",
       "      <td></td>\n",
       "      <td>2</td>\n",
       "      <td>8680</td>\n",
       "      <td>020</td>\n",
       "      <td>01</td>\n",
       "      <td>1</td>\n",
       "      <td>00100</td>\n",
       "      <td>00100</td>\n",
       "      <td>1</td>\n",
       "      <td>16</td>\n",
       "      <td></td>\n",
       "      <td>2</td>\n",
       "      <td>1</td>\n",
       "    </tr>\n",
       "    <tr>\n",
       "      <th>11</th>\n",
       "      <td>45.0</td>\n",
       "      <td>1438</td>\n",
       "      <td>55</td>\n",
       "      <td>1</td>\n",
       "      <td></td>\n",
       "      <td>1</td>\n",
       "      <td></td>\n",
       "      <td>2</td>\n",
       "      <td>6170</td>\n",
       "      <td>030</td>\n",
       "      <td>01</td>\n",
       "      <td>1</td>\n",
       "      <td>00100</td>\n",
       "      <td>00100</td>\n",
       "      <td>1</td>\n",
       "      <td>16</td>\n",
       "      <td></td>\n",
       "      <td>1</td>\n",
       "      <td>1</td>\n",
       "    </tr>\n",
       "  </tbody>\n",
       "</table>\n",
       "</div>"
      ],
      "text/plain": [
       "    WAGP SERIALNO AGEP COW ESP ESR FOD1P HINS4  INDP JWMNP JWTR MAR POWPUMA  \\\n",
       "1   70.0      467   62   1       1  2102     2  6990   015   01   3   00590   \n",
       "2   19.0      490   64   2       1           2  8090   015   01   1   00590   \n",
       "6   70.0     1225   32   5       4  5301     2  9680   015   01   1   00100   \n",
       "7   18.0     1225   30   1       1           2  8680   020   01   1   00100   \n",
       "11  45.0     1438   55   1       1           2  6170   030   01   1   00100   \n",
       "\n",
       "     PUMA RAC1P SCHL SCIENGRLP SEX WKW  \n",
       "1   00600     1   21         2   1   1  \n",
       "2   00500     1   18             2   1  \n",
       "6   00100     1   21         2   1   1  \n",
       "7   00100     1   16             2   1  \n",
       "11  00100     1   16             1   1  "
      ]
     },
     "execution_count": 10,
     "metadata": {},
     "output_type": "execute_result"
    }
   ],
   "source": [
    "df_data = transform_data(df_data)\n",
    "print '%d rows' % len(df_data)\n",
    "df_data.head()"
   ]
  },
  {
   "cell_type": "markdown",
   "metadata": {
    "deletable": true,
    "editable": true
   },
   "source": [
    "## Prepare Datasets for testing and training\n",
    "Split the dataset into training and testing sets (80% for training, 20% for testing / evaluating)\n",
    "Make the schema reusable"
   ]
  },
  {
   "cell_type": "code",
   "execution_count": 11,
   "metadata": {
    "collapsed": true,
    "deletable": true,
    "editable": true
   },
   "outputs": [],
   "source": [
    "#setup functions to call for creating a schema and to split dataset into training and eval sets\n",
    "#create a schema for reuse\n",
    "def create_schema(df):\n",
    "  fields = []\n",
    "  for name, dtype in zip(df.columns, df.dtypes):\n",
    "    if dtype in (np.str, np.object):\n",
    "      # Categorical columns should have type 'STRING'\n",
    "      fields.append({'name': name, 'type': 'STRING'})\n",
    "    elif dtype in (np.int32, np.int64, np.float32, np.float64):\n",
    "      # Numerical columns have type 'FLOAT'\n",
    "      fields.append({'name': name, 'type': 'FLOAT'})\n",
    "    else:\n",
    "      raise ValueError('Unsupported column type \"%s\" in column \"%s\"' % (str(dtype), name))\n",
    "  return fields\n",
    "\n",
    "#create the training and evaluation sets\n",
    "def create_datasets(df):\n",
    "  random_values = np.random.rand(len(df))\n",
    "  \n",
    "  df_train = df[random_values < 0.8]\n",
    "  df_eval =  df[random_values >= 0.8]\n",
    "  \n",
    "  return df_train, df_eval"
   ]
  },
  {
   "cell_type": "code",
   "execution_count": 12,
   "metadata": {
    "collapsed": false,
    "deletable": true,
    "editable": true
   },
   "outputs": [],
   "source": [
    "# call the functions to create sets and schema\n",
    "df_train, df_eval = create_datasets(df_data)\n",
    "schema = create_schema(df_data)\n",
    "\n",
    "#set the path and files\n",
    "training_data_path = os.path.join(workspace_path, 'data/train.csv')\n",
    "eval_data_path = os.path.join(workspace_path, 'data/eval.csv')\n",
    "schema_path = os.path.join(workspace_path, 'data/schema.json')\n",
    "\n",
    "#convert the files to csv\n",
    "df_train.to_csv(training_data_path, header=False, index=False)\n",
    "df_eval.to_csv(eval_data_path, header=False, index=False)\n",
    "\n",
    "#write the schema json file\n",
    "with open(schema_path, 'w') as f:\n",
    "  f.write(json.dumps(schema, indent=2))\n"
   ]
  },
  {
   "cell_type": "code",
   "execution_count": 13,
   "metadata": {
    "collapsed": false,
    "deletable": true,
    "editable": true
   },
   "outputs": [
    {
     "name": "stdout",
     "output_type": "stream",
     "text": [
      "total 8208\r\n",
      "-rw-r--r-- 1 root root 8189323 Jul  1 11:53 census.csv\r\n",
      "-rw-r--r-- 1 root root   38395 Jul  1 11:53 eval.csv\r\n",
      "-rw-r--r-- 1 root root     998 Jul  1 11:53 schema.json\r\n",
      "-rw-r--r-- 1 root root  165160 Jul  1 11:53 train.csv\r\n"
     ]
    }
   ],
   "source": [
    "!ls -l {workspace_path}/data"
   ]
  },
  {
   "cell_type": "code",
   "execution_count": 14,
   "metadata": {
    "collapsed": false,
    "deletable": true,
    "editable": true
   },
   "outputs": [],
   "source": [
    "#create Datasets which are reference to one or more files identified by path / path pattern along with schema\n",
    "train_data = ml.CsvDataSet(file_pattern=training_data_path, schema_file=schema_path)\n",
    "eval_data = ml.CsvDataSet(file_pattern=eval_data_path, schema_file=schema_path)"
   ]
  },
  {
   "cell_type": "code",
   "execution_count": 15,
   "metadata": {
    "collapsed": false,
    "deletable": true,
    "editable": true
   },
   "outputs": [
    {
     "name": "stdout",
     "output_type": "stream",
     "text": [
      "Analyze: completed\n"
     ]
    }
   ],
   "source": [
    "#analysis path - for pull pass over the training data, for gathering info for building model\n",
    "analysis_path = os.path.join(workspace_path, 'analysis')\n",
    "regression.analyze(dataset=train_data, output_dir=analysis_path)"
   ]
  },
  {
   "cell_type": "code",
   "execution_count": 16,
   "metadata": {
    "collapsed": false,
    "deletable": true,
    "editable": true
   },
   "outputs": [
    {
     "name": "stdout",
     "output_type": "stream",
     "text": [
      "schema.json\tvocab_ESR.csv\t vocab_JWTR.csv     vocab_SCHL.csv\r\n",
      "stats.json\tvocab_FOD1P.csv  vocab_MAR.csv\t    vocab_SCIENGRLP.csv\r\n",
      "vocab_AGEP.csv\tvocab_HINS4.csv  vocab_POWPUMA.csv  vocab_SERIALNO.csv\r\n",
      "vocab_COW.csv\tvocab_INDP.csv\t vocab_PUMA.csv     vocab_SEX.csv\r\n",
      "vocab_ESP.csv\tvocab_JWMNP.csv  vocab_RAC1P.csv    vocab_WKW.csv\r\n"
     ]
    }
   ],
   "source": [
    "!ls {analysis_path}"
   ]
  },
  {
   "cell_type": "code",
   "execution_count": 17,
   "metadata": {
    "collapsed": true,
    "deletable": true,
    "editable": true
   },
   "outputs": [],
   "source": [
    "features = {\n",
    "  \"WAGP\": {\"transform\": \"target\"},\n",
    "  \"SERIALNO\": {\"transform\": \"key\"},\n",
    "  \"AGEP\": {\"transform\": \"embedding\", \"embedding_dim\": 2},  # Age\n",
    "  \"COW\": {\"transform\": \"one_hot\"},                         # Class of worker\n",
    "  \"ESP\": {\"transform\": \"embedding\", \"embedding_dim\": 2},   # Employment status of parents\n",
    "  \"ESR\": {\"transform\": \"one_hot\"},                         # Employment status\n",
    "  \"FOD1P\": {\"transform\": \"embedding\", \"embedding_dim\": 3}, # Field of degree\n",
    "  \"HINS4\": {\"transform\": \"one_hot\"},                       # Medicaid\n",
    "  \"INDP\": {\"transform\": \"embedding\", \"embedding_dim\": 5},  # Industry\n",
    "  \"JWMNP\": {\"transform\": \"embedding\", \"embedding_dim\": 2}, # Travel time to work\n",
    "  \"JWTR\": {\"transform\": \"one_hot\"},                        # Transportation\n",
    "  \"MAR\": {\"transform\": \"one_hot\"},                         # Marital status\n",
    "  \"POWPUMA\": {\"transform\": \"one_hot\"},                     # Place of work\n",
    "  \"PUMA\": {\"transform\": \"one_hot\"},                        # Area code\n",
    "  \"RAC1P\": {\"transform\": \"one_hot\"},                       # Race\n",
    "  \"SCHL\": {\"transform\": \"one_hot\"},                        # School\n",
    "  \"SCIENGRLP\": {\"transform\": \"one_hot\"},                   # Science\n",
    "  \"SEX\": {\"transform\": \"one_hot\"},\n",
    "  \"WKW\": {\"transform\": \"one_hot\"}                          # Weeks worked\n",
    "}"
   ]
  },
  {
   "cell_type": "code",
   "execution_count": 18,
   "metadata": {
    "collapsed": false,
    "deletable": true,
    "editable": true
   },
   "outputs": [
    {
     "name": "stdout",
     "output_type": "stream",
     "text": [
      "Training: failed with error: output_dir already exist. Use a new output path. <type 'exceptions.ValueError'> Traceback (most recent call last):\n",
      "  File \"/usr/local/envs/py2env/lib/python2.7/site-packages/google/datalab/_job.py\", line 165, in _refresh_state\n",
      "    self._result = self._future.result()\n",
      "  File \"/usr/local/envs/py2env/lib/python2.7/site-packages/concurrent/futures/_base.py\", line 455, in result\n",
      "    return self.__get_result()\n",
      "  File \"/usr/local/envs/py2env/lib/python2.7/site-packages/concurrent/futures/thread.py\", line 63, in run\n",
      "    result = self.fn(*self.args, **self.kwargs)\n",
      "  File \"/usr/local/envs/py2env/lib/python2.7/site-packages/mltoolbox/_structured_data/_package.py\", line 359, in fn\n",
      "    epsilon=epsilon)\n",
      "  File \"/usr/local/envs/py2env/lib/python2.7/site-packages/mltoolbox/_structured_data/_package.py\", line 383, in local_train\n",
      "    raise ValueError('output_dir already exist. Use a new output path.')\n",
      "ValueError: output_dir already exist. Use a new output path.\n",
      "\n"
     ]
    }
   ],
   "source": [
    "#training\n",
    "# WAGP - target value, what the model learns to predict\n",
    "# key - unique identifier of instances\n",
    "#features - from above - target, inputs from input data -> apply transforms\n",
    "training_path = os.path.join(workspace_path, 'training')\n",
    "regression.train(train_dataset=train_data, eval_dataset=eval_data,\n",
    "                output_dir=training_path,\n",
    "                analysis_dir=analysis_path,\n",
    "                features=features,\n",
    "                max_steps=2000,\n",
    "                layer_sizes=[5, 5, 5])"
   ]
  },
  {
   "cell_type": "code",
   "execution_count": 19,
   "metadata": {
    "collapsed": false,
    "deletable": true,
    "editable": true
   },
   "outputs": [
    {
     "data": {
      "text/html": [
       "<p>TensorBoard was started successfully with pid 3634. Click <a href=\"/_proxy/48937/\" target=\"_blank\">here</a> to access it.</p>"
      ]
     },
     "metadata": {},
     "output_type": "display_data"
    }
   ],
   "source": [
    "tensorboard_pid = ml.TensorBoard.start(training_path)"
   ]
  },
  {
   "cell_type": "code",
   "execution_count": 20,
   "metadata": {
    "collapsed": true,
    "deletable": true,
    "editable": true
   },
   "outputs": [],
   "source": [
    "ml.TensorBoard.stop(tensorboard_pid)"
   ]
  },
  {
   "cell_type": "code",
   "execution_count": 21,
   "metadata": {
    "collapsed": false,
    "deletable": true,
    "editable": true
   },
   "outputs": [
    {
     "name": "stdout",
     "output_type": "stream",
     "text": [
      "/content/datalab/workspace/census/training/model:\r\n",
      "assets.extra  saved_model.pb  variables\r\n",
      "\r\n",
      "/content/datalab/workspace/census/training/model/assets.extra:\r\n",
      "features.json  schema.json\r\n",
      "\r\n",
      "/content/datalab/workspace/census/training/model/variables:\r\n",
      "variables.data-00000-of-00001  variables.index\r\n"
     ]
    }
   ],
   "source": [
    "!ls -R {training_path}/model"
   ]
  },
  {
   "cell_type": "code",
   "execution_count": 23,
   "metadata": {
    "collapsed": false,
    "deletable": true,
    "editable": true
   },
   "outputs": [
    {
     "name": "stdout",
     "output_type": "stream",
     "text": [
      "INFO:tensorflow:Restoring parameters from /content/datalab/workspace/census/training/evaluation_model/variables/variables\n"
     ]
    },
    {
     "name": "stderr",
     "output_type": "stream",
     "text": [
      "INFO:tensorflow:Restoring parameters from /content/datalab/workspace/census/training/evaluation_model/variables/variables\n"
     ]
    },
    {
     "name": "stdout",
     "output_type": "stream",
     "text": [
      "Batch predict: completed\n"
     ]
    }
   ],
   "source": [
    "#evaluation - understand how well model performed\n",
    "evaluation_path = os.path.join(workspace_path, 'evaluation')\n",
    "regression.batch_predict(training_dir=training_path,\n",
    "                        prediction_input_file=eval_data_path,\n",
    "                        output_dir=evaluation_path,\n",
    "                        output_format='json',\n",
    "                        mode='evaluation')"
   ]
  },
  {
   "cell_type": "code",
   "execution_count": 24,
   "metadata": {
    "collapsed": false
   },
   "outputs": [
    {
     "name": "stdout",
     "output_type": "stream",
     "text": [
      "total 48\r\n",
      "-rw-r--r-- 1 root root     0 Jul  1 12:02 errors-00000-of-00001.txt\r\n",
      "-rw-r--r-- 1 root root 45752 Jul  1 12:02 predictions-00000-of-00001.json\r\n"
     ]
    }
   ],
   "source": [
    "!ls -l {evaluation_path}"
   ]
  },
  {
   "cell_type": "code",
   "execution_count": 25,
   "metadata": {
    "collapsed": false
   },
   "outputs": [
    {
     "data": {
      "text/html": [
       "<div>\n",
       "<style scoped>\n",
       "    .dataframe tbody tr th:only-of-type {\n",
       "        vertical-align: middle;\n",
       "    }\n",
       "\n",
       "    .dataframe tbody tr th {\n",
       "        vertical-align: top;\n",
       "    }\n",
       "\n",
       "    .dataframe thead th {\n",
       "        text-align: right;\n",
       "    }\n",
       "</style>\n",
       "<table border=\"1\" class=\"dataframe\">\n",
       "  <thead>\n",
       "    <tr style=\"text-align: right;\">\n",
       "      <th></th>\n",
       "      <th>SERIALNO</th>\n",
       "      <th>predicted</th>\n",
       "      <th>target</th>\n",
       "    </tr>\n",
       "  </thead>\n",
       "  <tbody>\n",
       "    <tr>\n",
       "      <th>0</th>\n",
       "      <td>467</td>\n",
       "      <td>76.776939</td>\n",
       "      <td>70.0</td>\n",
       "    </tr>\n",
       "    <tr>\n",
       "      <th>1</th>\n",
       "      <td>490</td>\n",
       "      <td>25.720030</td>\n",
       "      <td>19.0</td>\n",
       "    </tr>\n",
       "    <tr>\n",
       "      <th>2</th>\n",
       "      <td>1225</td>\n",
       "      <td>59.513672</td>\n",
       "      <td>70.0</td>\n",
       "    </tr>\n",
       "    <tr>\n",
       "      <th>3</th>\n",
       "      <td>1438</td>\n",
       "      <td>44.748856</td>\n",
       "      <td>45.0</td>\n",
       "    </tr>\n",
       "    <tr>\n",
       "      <th>4</th>\n",
       "      <td>3679</td>\n",
       "      <td>13.677681</td>\n",
       "      <td>10.0</td>\n",
       "    </tr>\n",
       "  </tbody>\n",
       "</table>\n",
       "</div>"
      ],
      "text/plain": [
       "   SERIALNO  predicted  target\n",
       "0       467  76.776939    70.0\n",
       "1       490  25.720030    19.0\n",
       "2      1225  59.513672    70.0\n",
       "3      1438  44.748856    45.0\n",
       "4      3679  13.677681    10.0"
      ]
     },
     "execution_count": 25,
     "metadata": {},
     "output_type": "execute_result"
    }
   ],
   "source": [
    "df_eval = pd.read_json(os.path.join(evaluation_path, 'predictions-00000-of-00001.json'), lines=True)\n",
    "df_eval.head()"
   ]
  },
  {
   "cell_type": "code",
   "execution_count": 26,
   "metadata": {
    "collapsed": false
   },
   "outputs": [
    {
     "name": "stdout",
     "output_type": "stream",
     "text": [
      "Root Mean Squared Error: 15.574\n"
     ]
    }
   ],
   "source": [
    "mse = metrics.mean_squared_error(df_eval['target'], df_eval['predicted'])\n",
    "rmse = math.sqrt(mse)\n",
    "print 'Root Mean Squared Error: %.3f' % rmse"
   ]
  },
  {
   "cell_type": "code",
   "execution_count": 27,
   "metadata": {
    "collapsed": false
   },
   "outputs": [
    {
     "name": "stderr",
     "output_type": "stream",
     "text": [
      "/usr/local/envs/py2env/lib/python2.7/site-packages/matplotlib/font_manager.py:1320: UserWarning: findfont: Font family [u'sans-serif'] not found. Falling back to DejaVu Sans\n",
      "  (prop.get_family(), self.defaultFamily[fontext]))\n"
     ]
    },
    {
     "data": {
      "image/png": "[encoded data removed]",
      "text/plain": [
       "<matplotlib.figure.Figure at 0x7f6868066650>"
      ]
     },
     "metadata": {},
     "output_type": "display_data"
    }
   ],
   "source": [
    "df_eval['error'] = df_eval['predicted'] - df_eval['target']\n",
    "_ = plot.hist(df_eval['error'], bins=20)"
   ]
  },
  {
   "cell_type": "code",
   "execution_count": 28,
   "metadata": {
    "collapsed": false
   },
   "outputs": [
    {
     "name": "stdout",
     "output_type": "stream",
     "text": [
      "Writing /content/datalab/workspace/census/data/prediction.csv\n"
     ]
    }
   ],
   "source": [
    "%file {workspace_path}/data/prediction.csv\n",
    "SERIALNO,AGEP,COW,ESP,ESR,FOD1P,HINS4,INDP,JWMNP,JWTR,MAR,POWPUMA,PUMA,RAC1P,SCHL,SCIENGRLP,SEX,WKW\n",
    "490,64,2,0,1,0,2,8090,015,01,1,00590,00500,1,18,0,2,1\n",
    "1225,32,5,0,4,5301,2,9680,015,01,1,00100,00100,1,21,2,1,1\n",
    "1226,30,1,0,1,0,2,8680,020,01,1,00100,00100,1,16,0,2,1"
   ]
  },
  {
   "cell_type": "code",
   "execution_count": 33,
   "metadata": {
    "collapsed": false
   },
   "outputs": [
    {
     "data": {
      "text/html": [
       "<div>\n",
       "<style scoped>\n",
       "    .dataframe tbody tr th:only-of-type {\n",
       "        vertical-align: middle;\n",
       "    }\n",
       "\n",
       "    .dataframe tbody tr th {\n",
       "        vertical-align: top;\n",
       "    }\n",
       "\n",
       "    .dataframe thead th {\n",
       "        text-align: right;\n",
       "    }\n",
       "</style>\n",
       "<table border=\"1\" class=\"dataframe\">\n",
       "  <thead>\n",
       "    <tr style=\"text-align: right;\">\n",
       "      <th></th>\n",
       "      <th>SERIALNO</th>\n",
       "      <th>AGEP</th>\n",
       "      <th>COW</th>\n",
       "      <th>ESP</th>\n",
       "      <th>ESR</th>\n",
       "      <th>FOD1P</th>\n",
       "      <th>HINS4</th>\n",
       "      <th>INDP</th>\n",
       "      <th>JWMNP</th>\n",
       "      <th>JWTR</th>\n",
       "      <th>MAR</th>\n",
       "      <th>POWPUMA</th>\n",
       "      <th>PUMA</th>\n",
       "      <th>RAC1P</th>\n",
       "      <th>SCHL</th>\n",
       "      <th>SCIENGRLP</th>\n",
       "      <th>SEX</th>\n",
       "      <th>WKW</th>\n",
       "    </tr>\n",
       "  </thead>\n",
       "  <tbody>\n",
       "    <tr>\n",
       "      <th>0</th>\n",
       "      <td>490</td>\n",
       "      <td>64</td>\n",
       "      <td>2</td>\n",
       "      <td>0</td>\n",
       "      <td>1</td>\n",
       "      <td>0</td>\n",
       "      <td>2</td>\n",
       "      <td>8090</td>\n",
       "      <td>15</td>\n",
       "      <td>1</td>\n",
       "      <td>1</td>\n",
       "      <td>590</td>\n",
       "      <td>500</td>\n",
       "      <td>1</td>\n",
       "      <td>18</td>\n",
       "      <td>0</td>\n",
       "      <td>2</td>\n",
       "      <td>1</td>\n",
       "    </tr>\n",
       "    <tr>\n",
       "      <th>1</th>\n",
       "      <td>1225</td>\n",
       "      <td>32</td>\n",
       "      <td>5</td>\n",
       "      <td>0</td>\n",
       "      <td>4</td>\n",
       "      <td>5301</td>\n",
       "      <td>2</td>\n",
       "      <td>9680</td>\n",
       "      <td>15</td>\n",
       "      <td>1</td>\n",
       "      <td>1</td>\n",
       "      <td>100</td>\n",
       "      <td>100</td>\n",
       "      <td>1</td>\n",
       "      <td>21</td>\n",
       "      <td>2</td>\n",
       "      <td>1</td>\n",
       "      <td>1</td>\n",
       "    </tr>\n",
       "    <tr>\n",
       "      <th>2</th>\n",
       "      <td>1226</td>\n",
       "      <td>30</td>\n",
       "      <td>1</td>\n",
       "      <td>0</td>\n",
       "      <td>1</td>\n",
       "      <td>0</td>\n",
       "      <td>2</td>\n",
       "      <td>8680</td>\n",
       "      <td>20</td>\n",
       "      <td>1</td>\n",
       "      <td>1</td>\n",
       "      <td>100</td>\n",
       "      <td>100</td>\n",
       "      <td>1</td>\n",
       "      <td>16</td>\n",
       "      <td>0</td>\n",
       "      <td>2</td>\n",
       "      <td>1</td>\n",
       "    </tr>\n",
       "  </tbody>\n",
       "</table>\n",
       "</div>"
      ],
      "text/plain": [
       "   SERIALNO  AGEP  COW  ESP  ESR  FOD1P  HINS4  INDP  JWMNP  JWTR  MAR  \\\n",
       "0       490    64    2    0    1      0      2  8090     15     1    1   \n",
       "1      1225    32    5    0    4   5301      2  9680     15     1    1   \n",
       "2      1226    30    1    0    1      0      2  8680     20     1    1   \n",
       "\n",
       "   POWPUMA  PUMA  RAC1P  SCHL  SCIENGRLP  SEX  WKW  \n",
       "0      590   500      1    18          0    2    1  \n",
       "1      100   100      1    21          2    1    1  \n",
       "2      100   100      1    16          0    2    1  "
      ]
     },
     "execution_count": 33,
     "metadata": {},
     "output_type": "execute_result"
    }
   ],
   "source": [
    "df_instances = pd.read_csv(os.path.join(workspace_path, 'data/prediction.csv'))\n",
    "df_instances"
   ]
  },
  {
   "cell_type": "code",
   "execution_count": 34,
   "metadata": {
    "collapsed": false
   },
   "outputs": [
    {
     "name": "stdout",
     "output_type": "stream",
     "text": [
      "INFO:tensorflow:Restoring parameters from /content/datalab/workspace/census/training/model/variables/variables\n"
     ]
    },
    {
     "name": "stderr",
     "output_type": "stream",
     "text": [
      "INFO:tensorflow:Restoring parameters from /content/datalab/workspace/census/training/model/variables/variables\n"
     ]
    },
    {
     "name": "stdout",
     "output_type": "stream",
     "text": [
      "INFO:tensorflow:Restoring parameters from /content/datalab/workspace/census/training/model/variables/variables\n"
     ]
    },
    {
     "name": "stderr",
     "output_type": "stream",
     "text": [
      "INFO:tensorflow:Restoring parameters from /content/datalab/workspace/census/training/model/variables/variables\n"
     ]
    },
    {
     "data": {
      "text/html": [
       "<div>\n",
       "<style scoped>\n",
       "    .dataframe tbody tr th:only-of-type {\n",
       "        vertical-align: middle;\n",
       "    }\n",
       "\n",
       "    .dataframe tbody tr th {\n",
       "        vertical-align: top;\n",
       "    }\n",
       "\n",
       "    .dataframe thead th {\n",
       "        text-align: right;\n",
       "    }\n",
       "</style>\n",
       "<table border=\"1\" class=\"dataframe\">\n",
       "  <thead>\n",
       "    <tr style=\"text-align: right;\">\n",
       "      <th></th>\n",
       "      <th>SERIALNO</th>\n",
       "      <th>predicted</th>\n",
       "    </tr>\n",
       "  </thead>\n",
       "  <tbody>\n",
       "    <tr>\n",
       "      <th>0</th>\n",
       "      <td>490</td>\n",
       "      <td>23.645187</td>\n",
       "    </tr>\n",
       "    <tr>\n",
       "      <th>1</th>\n",
       "      <td>1225</td>\n",
       "      <td>54.794521</td>\n",
       "    </tr>\n",
       "    <tr>\n",
       "      <th>2</th>\n",
       "      <td>1226</td>\n",
       "      <td>12.918388</td>\n",
       "    </tr>\n",
       "  </tbody>\n",
       "</table>\n",
       "</div>"
      ],
      "text/plain": [
       "   SERIALNO  predicted\n",
       "0       490  23.645187\n",
       "1      1225  54.794521\n",
       "2      1226  12.918388"
      ]
     },
     "execution_count": 34,
     "metadata": {},
     "output_type": "execute_result"
    }
   ],
   "source": [
    "df_predictions = regression.predict(training_dir=training_path, data=df_instances)\n",
    "df_predictions"
   ]
  },
  {
   "cell_type": "code",
   "execution_count": 35,
   "metadata": {
    "collapsed": false
   },
   "outputs": [
    {
     "data": {
      "text/html": [
       "<div>\n",
       "<style scoped>\n",
       "    .dataframe tbody tr th:only-of-type {\n",
       "        vertical-align: middle;\n",
       "    }\n",
       "\n",
       "    .dataframe tbody tr th {\n",
       "        vertical-align: top;\n",
       "    }\n",
       "\n",
       "    .dataframe thead th {\n",
       "        text-align: right;\n",
       "    }\n",
       "</style>\n",
       "<table border=\"1\" class=\"dataframe\">\n",
       "  <thead>\n",
       "    <tr style=\"text-align: right;\">\n",
       "      <th></th>\n",
       "      <th>predicted</th>\n",
       "      <th>AGEP</th>\n",
       "      <th>COW</th>\n",
       "      <th>ESP</th>\n",
       "      <th>ESR</th>\n",
       "      <th>FOD1P</th>\n",
       "      <th>HINS4</th>\n",
       "      <th>INDP</th>\n",
       "      <th>JWMNP</th>\n",
       "      <th>JWTR</th>\n",
       "      <th>MAR</th>\n",
       "      <th>POWPUMA</th>\n",
       "      <th>PUMA</th>\n",
       "      <th>RAC1P</th>\n",
       "      <th>SCHL</th>\n",
       "      <th>SCIENGRLP</th>\n",
       "      <th>SEX</th>\n",
       "      <th>WKW</th>\n",
       "    </tr>\n",
       "    <tr>\n",
       "      <th>SERIALNO</th>\n",
       "      <th></th>\n",
       "      <th></th>\n",
       "      <th></th>\n",
       "      <th></th>\n",
       "      <th></th>\n",
       "      <th></th>\n",
       "      <th></th>\n",
       "      <th></th>\n",
       "      <th></th>\n",
       "      <th></th>\n",
       "      <th></th>\n",
       "      <th></th>\n",
       "      <th></th>\n",
       "      <th></th>\n",
       "      <th></th>\n",
       "      <th></th>\n",
       "      <th></th>\n",
       "      <th></th>\n",
       "    </tr>\n",
       "  </thead>\n",
       "  <tbody>\n",
       "    <tr>\n",
       "      <th>490</th>\n",
       "      <td>23.645187</td>\n",
       "      <td>64</td>\n",
       "      <td>2</td>\n",
       "      <td>0</td>\n",
       "      <td>1</td>\n",
       "      <td>0</td>\n",
       "      <td>2</td>\n",
       "      <td>8090</td>\n",
       "      <td>15</td>\n",
       "      <td>1</td>\n",
       "      <td>1</td>\n",
       "      <td>590</td>\n",
       "      <td>500</td>\n",
       "      <td>1</td>\n",
       "      <td>18</td>\n",
       "      <td>0</td>\n",
       "      <td>2</td>\n",
       "      <td>1</td>\n",
       "    </tr>\n",
       "    <tr>\n",
       "      <th>1225</th>\n",
       "      <td>54.794521</td>\n",
       "      <td>32</td>\n",
       "      <td>5</td>\n",
       "      <td>0</td>\n",
       "      <td>4</td>\n",
       "      <td>5301</td>\n",
       "      <td>2</td>\n",
       "      <td>9680</td>\n",
       "      <td>15</td>\n",
       "      <td>1</td>\n",
       "      <td>1</td>\n",
       "      <td>100</td>\n",
       "      <td>100</td>\n",
       "      <td>1</td>\n",
       "      <td>21</td>\n",
       "      <td>2</td>\n",
       "      <td>1</td>\n",
       "      <td>1</td>\n",
       "    </tr>\n",
       "    <tr>\n",
       "      <th>1226</th>\n",
       "      <td>12.918388</td>\n",
       "      <td>30</td>\n",
       "      <td>1</td>\n",
       "      <td>0</td>\n",
       "      <td>1</td>\n",
       "      <td>0</td>\n",
       "      <td>2</td>\n",
       "      <td>8680</td>\n",
       "      <td>20</td>\n",
       "      <td>1</td>\n",
       "      <td>1</td>\n",
       "      <td>100</td>\n",
       "      <td>100</td>\n",
       "      <td>1</td>\n",
       "      <td>16</td>\n",
       "      <td>0</td>\n",
       "      <td>2</td>\n",
       "      <td>1</td>\n",
       "    </tr>\n",
       "  </tbody>\n",
       "</table>\n",
       "</div>"
      ],
      "text/plain": [
       "          predicted  AGEP  COW  ESP  ESR  FOD1P  HINS4  INDP  JWMNP  JWTR  \\\n",
       "SERIALNO                                                                    \n",
       "490       23.645187    64    2    0    1      0      2  8090     15     1   \n",
       "1225      54.794521    32    5    0    4   5301      2  9680     15     1   \n",
       "1226      12.918388    30    1    0    1      0      2  8680     20     1   \n",
       "\n",
       "          MAR  POWPUMA  PUMA  RAC1P  SCHL  SCIENGRLP  SEX  WKW  \n",
       "SERIALNO                                                        \n",
       "490         1      590   500      1    18          0    2    1  \n",
       "1225        1      100   100      1    21          2    1    1  \n",
       "1226        1      100   100      1    16          0    2    1  "
      ]
     },
     "execution_count": 35,
     "metadata": {},
     "output_type": "execute_result"
    }
   ],
   "source": [
    "df_instances.set_index(keys=['SERIALNO'], inplace=True)\n",
    "df_predictions.set_index(keys=['SERIALNO'], inplace=True)\n",
    "\n",
    "df_data = df_predictions.join(other=df_instances)\n",
    "df_data"
   ]
  },
  {
   "cell_type": "code",
   "execution_count": null,
   "metadata": {
    "collapsed": true
   },
   "outputs": [],
   "source": []
  }
 ],
 "metadata": {
  "kernelspec": {
   "display_name": "Python 2",
   "language": "python",
   "name": "python2"
  },
  "language_info": {
   "codemirror_mode": {
    "name": "ipython",
    "version": 2
   },
   "file_extension": ".py",
   "mimetype": "text/x-python",
   "name": "python",
   "nbconvert_exporter": "python",
   "pygments_lexer": "ipython2",
   "version": "2.7.15"
  }
 },
 "nbformat": 4,
 "nbformat_minor": 2
}
