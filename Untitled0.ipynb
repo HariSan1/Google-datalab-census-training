{
  "nbformat": 4,
  "nbformat_minor": 0,
  "metadata": {
    "colab": {
      "name": "Untitled0.ipynb",
      "version": "0.3.2",
      "provenance": [],
      "collapsed_sections": [],
      "include_colab_link": true
    },
    "kernelspec": {
      "name": "python2",
      "display_name": "Python 2"
    }
  },
  "cells": [
    {
      "cell_type": "markdown",
      "metadata": {
        "id": "view-in-github",
        "colab_type": "text"
      },
      "source": [
        "[View in Colaboratory](https://colab.research.google.com/github/HariSan1/Google-datalab-census-training/blob/master/Untitled0.ipynb)"
      ]
    },
    {
      "metadata": {
        "id": "MG-1ZjQPGA9K",
        "colab_type": "code",
        "colab": {
          "base_uri": "https://localhost:8080/",
          "height": 204
        },
        "outputId": "0ecf16ee-f612-4605-9d95-6b8a5d8a2511"
      },
      "cell_type": "code",
      "source": [
        "print(\"TSB\")\n",
        "for x in range(0,10):\n",
        "  print(\" This is number %d\" % x)"
      ],
      "execution_count": 6,
      "outputs": [
        {
          "output_type": "stream",
          "text": [
            "TSB\n",
            " This is number 0\n",
            " This is number 1\n",
            " This is number 2\n",
            " This is number 3\n",
            " This is number 4\n",
            " This is number 5\n",
            " This is number 6\n",
            " This is number 7\n",
            " This is number 8\n",
            " This is number 9\n"
          ],
          "name": "stdout"
        }
      ]
    }
  ]
}